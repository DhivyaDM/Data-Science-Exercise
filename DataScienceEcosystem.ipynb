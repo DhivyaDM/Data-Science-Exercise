{
 "cells": [
  {
   "cell_type": "markdown",
   "id": "bbccd69d-4b4f-46b4-b3aa-c00273588f64",
   "metadata": {},
   "source": [
    "# Data Science Tools and Ecosystem"
   ]
  },
  {
   "cell_type": "markdown",
   "id": "a4a758a0-0b12-4ffe-a549-30d368b9602c",
   "metadata": {},
   "source": [
    "In this notebook, Data Science Tools and Ecosystem are summarized."
   ]
  },
  {
   "cell_type": "markdown",
   "id": "651c37fd-797c-410a-b2c2-3c158a4560c1",
   "metadata": {},
   "source": [
    "**Objectives:**\n",
    "- Popular languages for Data Science\n",
    "- Common Libraries used by Data Scientists\n",
    "- Data Science Tools\n",
    "- Arithmetic Expressions\n",
    "- Upload notebook in GitHub"
   ]
  },
  {
   "cell_type": "markdown",
   "id": "0721deef-0c1f-41fe-a826-1acb9f2221fb",
   "metadata": {},
   "source": [
    "Some of the popular languages that Data Scientists use are:\n",
    "1. Python\n",
    "2. R\n",
    "3. SQL"
   ]
  },
  {
   "cell_type": "markdown",
   "id": "2aadb701-5e46-4f7c-8b2f-54f5b564d20a",
   "metadata": {},
   "source": [
    "Some of the commonly used libraries used by Data Scientists include:\n",
    "1. NumPy\n",
    "2. Pandas\n",
    "3. Scikit-learn\n"
   ]
  },
  {
   "cell_type": "markdown",
   "id": "1c83d6d6-e5d9-468b-a8c8-a8489aa453f3",
   "metadata": {
    "jp-MarkdownHeadingCollapsed": true
   },
   "source": [
    "| Data Science Tools |\n",
    "| -------------| \n",
    "| Python | \n",
    "| Jupyter | \n",
    "| SQL | "
   ]
  },
  {
   "cell_type": "markdown",
   "id": "ace9e372-ef09-4963-86b5-e9d692d1dd10",
   "metadata": {},
   "source": [
    "### Below are a few examples of evaluating arithmetic expressions in Python"
   ]
  },
  {
   "cell_type": "code",
   "execution_count": 12,
   "id": "a813301d-da96-4052-8198-c76bdaa14fd7",
   "metadata": {},
   "outputs": [
    {
     "data": {
      "text/plain": [
       "17"
      ]
     },
     "execution_count": 12,
     "metadata": {},
     "output_type": "execute_result"
    }
   ],
   "source": [
    "#This a simple arithmetic expression to mutiply then add integers\n",
    "(3*4)+5"
   ]
  },
  {
   "cell_type": "code",
   "execution_count": 11,
   "id": "2740d849-c6c6-4946-b91e-0df1f4026a40",
   "metadata": {},
   "outputs": [
    {
     "name": "stdout",
     "output_type": "stream",
     "text": [
      "3 hrs\n"
     ]
    }
   ],
   "source": [
    "#This will convert 200 minutes to hours by diving by 60\n",
    "h = int(200/60)\n",
    "print(str(h)+' hrs')"
   ]
  },
  {
   "cell_type": "markdown",
   "id": "2429896f-65a8-4594-a2ab-11012a3a90c0",
   "metadata": {},
   "source": [
    "## Author\n",
    "Dhivya D M"
   ]
  },
  {
   "cell_type": "code",
   "execution_count": null,
   "id": "9336ab57-18df-4510-be54-a135ec75a68f",
   "metadata": {},
   "outputs": [],
   "source": []
  },
  {
   "cell_type": "code",
   "execution_count": null,
   "id": "160672c8-5f4e-441b-935c-bb76e53b5fd6",
   "metadata": {},
   "outputs": [],
   "source": []
  }
 ],
 "metadata": {
  "kernelspec": {
   "display_name": "Python 3 (ipykernel)",
   "language": "python",
   "name": "python3"
  },
  "language_info": {
   "codemirror_mode": {
    "name": "ipython",
    "version": 3
   },
   "file_extension": ".py",
   "mimetype": "text/x-python",
   "name": "python",
   "nbconvert_exporter": "python",
   "pygments_lexer": "ipython3",
   "version": "3.12.8"
  }
 },
 "nbformat": 4,
 "nbformat_minor": 5
}
